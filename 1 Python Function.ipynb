{
 "cells": [
  {
   "cell_type": "markdown",
   "id": "ffd556e1-fa54-439b-9a1e-e21155416010",
   "metadata": {},
   "source": [
    "# Functions"
   ]
  },
  {
   "cell_type": "markdown",
   "id": "16f343c2-9447-4bc1-93dc-810c8909608b",
   "metadata": {},
   "source": [
    "Function (fungsi) dalam matematika adalah relasi antara suatu elemen X di himpunan A terhadap pasangannya suatu elemen Y di himpunan B. Misal X berelasi dengan Y dengan fungsi:\n",
    "$$ f(x) = y  $$\n",
    "Contoh: X memiliki relasi dengan Y, melalui fungsi Y = 2X atau $f(x) = 2x$\n",
    "\n",
    "- untuk x = 1 => $y = f(1) = 2 * 1 = 2$\n",
    "- untuk x = 9 => $y = f(9) = 2 * 9 = 18$"
   ]
  },
  {
   "cell_type": "markdown",
   "id": "c0ecd4fa-1dc3-4d22-a66c-8df54322e8dd",
   "metadata": {},
   "source": [
    "Dalam programming, function adalah blok kode yang bekerja hanya saat dipanggil saja.\n",
    "\n",
    "```python\n",
    "def namaFunction():\n",
    "    # do something...\n",
    "\n",
    "namaFunction()\n",
    "```"
   ]
  },
  {
   "cell_type": "code",
   "execution_count": 25,
   "id": "ffd6e71f-d298-4857-a300-acb30199cb39",
   "metadata": {},
   "outputs": [],
   "source": [
    "# function hello\n",
    "def hello():\n",
    "    print(\"Hello world!\")"
   ]
  },
  {
   "cell_type": "code",
   "execution_count": 26,
   "id": "d101dd6e-a87e-409b-a8d7-59ad674223c5",
   "metadata": {},
   "outputs": [
    {
     "name": "stdout",
     "output_type": "stream",
     "text": [
      "Hello world!\n"
     ]
    }
   ],
   "source": [
    "hello()"
   ]
  },
  {
   "cell_type": "markdown",
   "id": "2626f5e3-8187-4db3-9898-6e2b3a787614",
   "metadata": {},
   "source": [
    "## Argument\n",
    "\n",
    "Value yang disisipkan ke dalam function untuk diolah"
   ]
  },
  {
   "cell_type": "code",
   "execution_count": 27,
   "id": "60a95a01-67f9-4768-90d8-6f5af246ad77",
   "metadata": {},
   "outputs": [],
   "source": [
    "def hello(nama):\n",
    "    print(\"Hello \" + nama)"
   ]
  },
  {
   "cell_type": "code",
   "execution_count": 28,
   "id": "70197c8c-4ad8-46b5-bd2e-a1acf2a693e9",
   "metadata": {},
   "outputs": [
    {
     "name": "stdout",
     "output_type": "stream",
     "text": [
      "Hello Lintang\n",
      "Hello Andi\n",
      "Hello Budi\n"
     ]
    }
   ],
   "source": [
    "hello(\"Lintang\")\n",
    "hello(\"Andi\")\n",
    "hello(\"Budi\")"
   ]
  },
  {
   "cell_type": "code",
   "execution_count": 29,
   "id": "c8536a59-c5f4-42d5-a216-3ab471e4d32b",
   "metadata": {},
   "outputs": [],
   "source": [
    "def f(x):\n",
    "    print(2*x)"
   ]
  },
  {
   "cell_type": "code",
   "execution_count": 30,
   "id": "fd0cf045-5e9e-469b-bd60-3967ce9b61d6",
   "metadata": {},
   "outputs": [
    {
     "name": "stdout",
     "output_type": "stream",
     "text": [
      "2\n",
      "18\n"
     ]
    }
   ],
   "source": [
    "f(1)\n",
    "f(9)"
   ]
  },
  {
   "cell_type": "markdown",
   "id": "55428a0d-4628-46e4-ad3d-24226e7ba985",
   "metadata": {},
   "source": [
    "$$ f(x) = 2x^2 + 3x - 1 $$\n",
    "$$ f(1) = 2(1)^2 + 3(1) - 1 = 4 $$\n",
    "$$ f(9) = 2(9)^2 + 3(9) - 1 = 162 + 27 - 1 = 188 $$"
   ]
  },
  {
   "cell_type": "code",
   "execution_count": 37,
   "id": "933ab8ff-fc37-418b-abe5-484a8217dcf5",
   "metadata": {},
   "outputs": [],
   "source": [
    "def f(x):\n",
    "    print(2 * (x ** 2) + 3 * x - 1)"
   ]
  },
  {
   "cell_type": "code",
   "execution_count": 39,
   "id": "a83bceec-8f5e-4556-a508-4845cec4adfb",
   "metadata": {},
   "outputs": [
    {
     "name": "stdout",
     "output_type": "stream",
     "text": [
      "4\n",
      "188\n"
     ]
    }
   ],
   "source": [
    "f(1)\n",
    "f(9)"
   ]
  },
  {
   "cell_type": "markdown",
   "id": "ccfc56b5-12cd-42a6-b5f0-d5cd6598bd6a",
   "metadata": {},
   "source": [
    "$$ z = f(x, y) = x + y $$\n",
    "- Untuk x = 1 & y = 2 $ f(x, y) = 1 + 2 = 3 $\n",
    "- Untuk x = 9 & y = 8 $ f(x, y) = 9 + 8 = 17 $"
   ]
  },
  {
   "cell_type": "code",
   "execution_count": 40,
   "id": "7624d4dd-71a3-45f5-a622-3fb6fa42fc2a",
   "metadata": {},
   "outputs": [],
   "source": [
    "# func with multiple arg\n",
    "def z(x, y):\n",
    "    print(x + y)"
   ]
  },
  {
   "cell_type": "code",
   "execution_count": 41,
   "id": "41372d5c-ca55-41b3-a009-85d27291d6d4",
   "metadata": {},
   "outputs": [
    {
     "name": "stdout",
     "output_type": "stream",
     "text": [
      "3\n",
      "17\n"
     ]
    }
   ],
   "source": [
    "z(1, 2)\n",
    "z(9, 8)"
   ]
  },
  {
   "cell_type": "code",
   "execution_count": 42,
   "id": "b9007dc4-a50a-4cb3-8148-6ed44643a63d",
   "metadata": {},
   "outputs": [],
   "source": [
    "def z(x, y, z):\n",
    "    print(x, y, z)"
   ]
  },
  {
   "cell_type": "code",
   "execution_count": 43,
   "id": "671095d3-ceda-4bb6-a191-65502d34fde4",
   "metadata": {},
   "outputs": [
    {
     "name": "stdout",
     "output_type": "stream",
     "text": [
      "Andi Budi Caca\n"
     ]
    }
   ],
   "source": [
    "z(\"Andi\", \"Budi\", \"Caca\")"
   ]
  },
  {
   "cell_type": "code",
   "execution_count": 48,
   "id": "6d42d39f-0014-43f7-9877-e2f2ceedccdd",
   "metadata": {},
   "outputs": [],
   "source": [
    "def hello(nama, usia, kota):\n",
    "    # print(\"Hello \" + nama + \" usiamu \" + usia + \" th asal \" + kota)\n",
    "    print(f\"Hello {nama} usiamu {usia} th asal {kota}\")"
   ]
  },
  {
   "cell_type": "code",
   "execution_count": 49,
   "id": "10441403-4071-47b7-8a7e-69e22001802a",
   "metadata": {},
   "outputs": [
    {
     "name": "stdout",
     "output_type": "stream",
     "text": [
      "Hello Lintang usiamu 21 th asal Solo\n"
     ]
    }
   ],
   "source": [
    "hello(\"Lintang\", 21, \"Solo\")"
   ]
  },
  {
   "cell_type": "code",
   "execution_count": 52,
   "id": "19812c78-b619-45e6-8b46-62c645214fad",
   "metadata": {},
   "outputs": [],
   "source": [
    "# default value arg\n",
    "def f(x):\n",
    "    print(x)"
   ]
  },
  {
   "cell_type": "code",
   "execution_count": 53,
   "id": "77f49158-b1d1-4a35-94ac-77c3e4566e37",
   "metadata": {},
   "outputs": [
    {
     "ename": "TypeError",
     "evalue": "f() missing 1 required positional argument: 'x'",
     "output_type": "error",
     "traceback": [
      "\u001b[1;31m---------------------------------------------------------------------------\u001b[0m",
      "\u001b[1;31mTypeError\u001b[0m                                 Traceback (most recent call last)",
      "Cell \u001b[1;32mIn[53], line 2\u001b[0m\n\u001b[0;32m      1\u001b[0m \u001b[38;5;66;03m# apa yg terjadi saat saya call f(x) tanpa mendefinisikan x?\u001b[39;00m\n\u001b[1;32m----> 2\u001b[0m \u001b[43mf\u001b[49m\u001b[43m(\u001b[49m\u001b[43m)\u001b[49m\n",
      "\u001b[1;31mTypeError\u001b[0m: f() missing 1 required positional argument: 'x'"
     ]
    }
   ],
   "source": [
    "# apa yg terjadi saat saya call f(x) tanpa mendefinisikan x?\n",
    "f()"
   ]
  },
  {
   "cell_type": "code",
   "execution_count": 54,
   "id": "2c543b01-4d7f-4ec0-9c9e-6a04f6e22f5b",
   "metadata": {},
   "outputs": [
    {
     "name": "stdout",
     "output_type": "stream",
     "text": [
      "2\n"
     ]
    }
   ],
   "source": [
    "f(2)"
   ]
  },
  {
   "cell_type": "code",
   "execution_count": 63,
   "id": "ee77a1a5-8eca-43e2-831b-9b4424a18107",
   "metadata": {},
   "outputs": [],
   "source": [
    "# default value arg\n",
    "def f(x):\n",
    "    print(x)"
   ]
  },
  {
   "cell_type": "code",
   "execution_count": 67,
   "id": "fcec6617-900e-4868-9de9-92a4ec1f7f3e",
   "metadata": {},
   "outputs": [],
   "source": [
    "# default value arg\n",
    "def f(x=15):\n",
    "    print(x)"
   ]
  },
  {
   "cell_type": "code",
   "execution_count": 70,
   "id": "3670d2a9-cdb2-4f0e-9996-0137c8e7e757",
   "metadata": {},
   "outputs": [
    {
     "name": "stdout",
     "output_type": "stream",
     "text": [
      "12\n",
      "15\n"
     ]
    }
   ],
   "source": [
    "f(12) # x = 12\n",
    "f()   # x = default value = 15"
   ]
  },
  {
   "cell_type": "code",
   "execution_count": 71,
   "id": "f45c10e1-960b-4100-8e86-011d98fc9b28",
   "metadata": {},
   "outputs": [],
   "source": [
    "# default value arg\n",
    "def f(x=15, y=20, z=25):\n",
    "    print(x, y, z)"
   ]
  },
  {
   "cell_type": "code",
   "execution_count": 74,
   "id": "fe7f8b07-7bab-466c-977e-8b67a06fe897",
   "metadata": {},
   "outputs": [
    {
     "name": "stdout",
     "output_type": "stream",
     "text": [
      "12 8 75\n",
      "15 20 25\n",
      "245 20 25\n"
     ]
    }
   ],
   "source": [
    "f(12, 8, 75) # x = 12, y = 8, z = 75\n",
    "f()   # x, y, z = default value = 15, 20, 25\n",
    "f(245) # x = 245. y & z = default = 20 & 25"
   ]
  },
  {
   "cell_type": "markdown",
   "id": "2121559f-de28-4b84-b251-6f0a7ffb985b",
   "metadata": {},
   "source": [
    "$$ mean = \\frac{\\sum N}{n} $$\n",
    "\n",
    "Misal list `x = [1, 2, 3, 4, 5]` maka rata-rata list $x = \\frac{1+2+3+4+5}{5} = 3$ "
   ]
  },
  {
   "cell_type": "code",
   "execution_count": 82,
   "id": "0452de84-9817-46b7-ab66-24770972740b",
   "metadata": {},
   "outputs": [],
   "source": [
    "# function mencari nilai rata2 dari suatu list\n",
    "def mean(data):  # type(data) = list\n",
    "    total = 0\n",
    "    jumlah = len(data)\n",
    "    for e in data:\n",
    "        total = total + e\n",
    "    print(total / jumlah)"
   ]
  },
  {
   "cell_type": "code",
   "execution_count": 83,
   "id": "10e6b471-e4e7-4ae3-9c2a-5ac6bbde68ca",
   "metadata": {},
   "outputs": [
    {
     "name": "stdout",
     "output_type": "stream",
     "text": [
      "3.0\n"
     ]
    }
   ],
   "source": [
    "mean([1,2,3,4,5])"
   ]
  },
  {
   "cell_type": "markdown",
   "id": "875c2f32-8bfd-43fe-be9a-cbbfe48ce589",
   "metadata": {},
   "source": [
    "- e = 1 => total = total + e = 0 + 1 = 1\n",
    "- e = 2 => total = total + e = 1 + 2 = 3\n",
    "- e = 3 => total = total + e = 3 + 3 = 6\n",
    "- e = 4 => total = total + e = 6 + 4 = 10\n",
    "- e = 5 => total = total + e = 10 + 5 = 15"
   ]
  },
  {
   "cell_type": "markdown",
   "id": "1940d0bc-0b0f-41eb-9077-10b22f22b90a",
   "metadata": {},
   "source": [
    "## Keyword Argument (kwargs)"
   ]
  },
  {
   "cell_type": "code",
   "execution_count": 84,
   "id": "f6725fe1-3445-4519-bdd6-4b29c6616587",
   "metadata": {},
   "outputs": [],
   "source": [
    "def f(x):\n",
    "    print(x)"
   ]
  },
  {
   "cell_type": "code",
   "execution_count": 85,
   "id": "bcdac469-9387-4392-b077-9f01098029af",
   "metadata": {},
   "outputs": [
    {
     "name": "stdout",
     "output_type": "stream",
     "text": [
      "28\n",
      "Andi\n",
      "99\n",
      "Budi\n"
     ]
    }
   ],
   "source": [
    "f(28)\n",
    "f(\"Andi\")\n",
    "# call func with kwargs\n",
    "f(x=99)\n",
    "f(x=\"Budi\")"
   ]
  },
  {
   "cell_type": "code",
   "execution_count": 86,
   "id": "d40cb9b2-e23d-48a9-9ddb-c3be4a4e7bd3",
   "metadata": {},
   "outputs": [
    {
     "ename": "TypeError",
     "evalue": "f() got an unexpected keyword argument 'y'",
     "output_type": "error",
     "traceback": [
      "\u001b[1;31m---------------------------------------------------------------------------\u001b[0m",
      "\u001b[1;31mTypeError\u001b[0m                                 Traceback (most recent call last)",
      "Cell \u001b[1;32mIn[86], line 1\u001b[0m\n\u001b[1;32m----> 1\u001b[0m \u001b[43mf\u001b[49m\u001b[43m(\u001b[49m\u001b[43my\u001b[49m\u001b[38;5;241;43m=\u001b[39;49m\u001b[38;5;241;43m10\u001b[39;49m\u001b[43m)\u001b[49m\n",
      "\u001b[1;31mTypeError\u001b[0m: f() got an unexpected keyword argument 'y'"
     ]
    }
   ],
   "source": [
    "f(y=10) # err: fungsi f tdk punya arg y"
   ]
  },
  {
   "cell_type": "code",
   "execution_count": 92,
   "id": "43e3da5c-cfd9-463f-9ad2-87b7dd3a2b88",
   "metadata": {},
   "outputs": [],
   "source": [
    "def f(x=5, y=5, z=5):\n",
    "    print(x, y, z)"
   ]
  },
  {
   "cell_type": "code",
   "execution_count": 93,
   "id": "2e504d6c-b635-430c-9375-88920853a214",
   "metadata": {},
   "outputs": [
    {
     "name": "stdout",
     "output_type": "stream",
     "text": [
      "1 2 3\n",
      "1 2 3\n",
      "3 2 1\n",
      "5 5 10\n"
     ]
    }
   ],
   "source": [
    "f(1,2,3)\n",
    "f(x=1, y=2, z=3)\n",
    "f(z=1, y=2, x=3)\n",
    "f(z=10)"
   ]
  },
  {
   "cell_type": "markdown",
   "id": "3127b88a-5ca0-4e49-8ff3-04b46d2f8e15",
   "metadata": {},
   "source": [
    "## Arbitrary Argument (*args)"
   ]
  },
  {
   "cell_type": "code",
   "execution_count": 96,
   "id": "acd8ff76-02ac-4f8e-b0df-7eb824448d8a",
   "metadata": {},
   "outputs": [],
   "source": [
    "# func yg didefinisikan blm tahu pasti brp arg yg akan disisipkan\n",
    "# func didesain utk handle multiple arg as TUPLE\n",
    "def f(*x):\n",
    "    print(x, type(x))"
   ]
  },
  {
   "cell_type": "code",
   "execution_count": 99,
   "id": "2baea516-f6b4-4912-8d44-7d14663a64d9",
   "metadata": {},
   "outputs": [
    {
     "name": "stdout",
     "output_type": "stream",
     "text": [
      "(2,) <class 'tuple'>\n",
      "(1, 2, 3, 4, 5) <class 'tuple'>\n",
      "(1, 2, [3, 4, 5]) <class 'tuple'>\n"
     ]
    }
   ],
   "source": [
    "f(2)\n",
    "f(1, 2, 3, 4, 5)\n",
    "f(1, 2, [3, 4, 5]) # arg 1 = 1, arg 2 = 2, arg 3 = [3, 4, 5]"
   ]
  },
  {
   "cell_type": "code",
   "execution_count": 100,
   "id": "9d0c93f2-4e3c-4980-8788-89d9153c31e6",
   "metadata": {},
   "outputs": [],
   "source": [
    "def f(*x):\n",
    "    for i in x:\n",
    "        print(i)"
   ]
  },
  {
   "cell_type": "code",
   "execution_count": 103,
   "id": "bdcb7c0f-edf2-4907-9d82-10e004077fd8",
   "metadata": {},
   "outputs": [
    {
     "name": "stdout",
     "output_type": "stream",
     "text": [
      "2\n",
      "3\n",
      "[5, 7, 9]\n"
     ]
    }
   ],
   "source": [
    "f(2, 3, [5, 7, 9])"
   ]
  },
  {
   "cell_type": "code",
   "execution_count": 104,
   "id": "c83bec82-5813-4f84-8636-660d72aa5005",
   "metadata": {},
   "outputs": [
    {
     "name": "stdout",
     "output_type": "stream",
     "text": [
      "Andi\n",
      "Budi\n",
      "Caca\n"
     ]
    }
   ],
   "source": [
    "f(\"Andi\", \"Budi\", \"Caca\")"
   ]
  },
  {
   "cell_type": "code",
   "execution_count": 107,
   "id": "c90abad4-7df3-4b37-ba92-81ddbd3adcee",
   "metadata": {},
   "outputs": [],
   "source": [
    "def f(*x):\n",
    "    print(x[0])\n",
    "    print(x[1])\n",
    "    print(x[2])"
   ]
  },
  {
   "cell_type": "code",
   "execution_count": 108,
   "id": "3f2ab771-30d8-4402-bcc0-0e0af968d580",
   "metadata": {},
   "outputs": [
    {
     "name": "stdout",
     "output_type": "stream",
     "text": [
      "Andi\n",
      "Budi\n",
      "Caca\n"
     ]
    }
   ],
   "source": [
    "f(\"Andi\", \"Budi\", \"Caca\")"
   ]
  },
  {
   "cell_type": "markdown",
   "id": "04558cad-1122-4a58-ae39-cf50ef7e811e",
   "metadata": {},
   "source": [
    "## Keyword Arbitrary Argument (**kwargs)"
   ]
  },
  {
   "cell_type": "code",
   "execution_count": 119,
   "id": "b092045b-1e64-4ab0-810b-0742db5f8742",
   "metadata": {},
   "outputs": [],
   "source": [
    "# func blm tahu pasti brp Kwargs yg dapat dihandle func\n",
    "# **kwargs akan dihandle func as DICTIONARY\n",
    "def f(**x):\n",
    "    print(x, type(x))\n",
    "    print(x[\"nama\"])\n",
    "    print(x[\"usia\"])"
   ]
  },
  {
   "cell_type": "code",
   "execution_count": 121,
   "id": "8e6d2ec7-25e0-4484-9212-69ee31436657",
   "metadata": {},
   "outputs": [
    {
     "name": "stdout",
     "output_type": "stream",
     "text": [
      "{'nama': 'Andi', 'usia': 24} <class 'dict'>\n",
      "Andi\n",
      "24\n"
     ]
    }
   ],
   "source": [
    "f(nama=\"Andi\", usia=24)"
   ]
  },
  {
   "cell_type": "code",
   "execution_count": 116,
   "id": "e8c6a5de-22be-4d75-b5d8-d4956c62c87e",
   "metadata": {},
   "outputs": [
    {
     "name": "stdout",
     "output_type": "stream",
     "text": [
      "Andi\n",
      "23\n"
     ]
    }
   ],
   "source": [
    "x = {'nama': \"Andi\", \"usia\": 23}\n",
    "print(x[\"nama\"])\n",
    "print(x['usia'])"
   ]
  },
  {
   "cell_type": "code",
   "execution_count": 124,
   "id": "afa0b90e-ec64-4e7e-a0fe-826f7b7f2e68",
   "metadata": {},
   "outputs": [
    {
     "ename": "SyntaxError",
     "evalue": "expression cannot contain assignment, perhaps you meant \"==\"? (675601908.py, line 1)",
     "output_type": "error",
     "traceback": [
      "\u001b[1;36m  Cell \u001b[1;32mIn[124], line 1\u001b[1;36m\u001b[0m\n\u001b[1;33m    f(\"nama\"=\"Andi\", \"usia\"=24)\u001b[0m\n\u001b[1;37m      ^\u001b[0m\n\u001b[1;31mSyntaxError\u001b[0m\u001b[1;31m:\u001b[0m expression cannot contain assignment, perhaps you meant \"==\"?\n"
     ]
    }
   ],
   "source": [
    "f(\"nama\"=\"Andi\", \"usia\"=24)"
   ]
  },
  {
   "cell_type": "code",
   "execution_count": 127,
   "id": "b1abf696-ac7b-4129-b774-8fbb27ec7285",
   "metadata": {},
   "outputs": [
    {
     "ename": "SyntaxError",
     "evalue": "cannot assign to literal here. Maybe you meant '==' instead of '='? (4075747620.py, line 1)",
     "output_type": "error",
     "traceback": [
      "\u001b[1;36m  Cell \u001b[1;32mIn[127], line 1\u001b[1;36m\u001b[0m\n\u001b[1;33m    \"x\" = 'Andi' # antara 2 value tdk boleh ada assignment operator\u001b[0m\n\u001b[1;37m    ^\u001b[0m\n\u001b[1;31mSyntaxError\u001b[0m\u001b[1;31m:\u001b[0m cannot assign to literal here. Maybe you meant '==' instead of '='?\n"
     ]
    }
   ],
   "source": [
    "\"x\" = 'Andi' \n",
    "# antara 2 value tdk boleh ada assignment operator\n",
    "# yg boleh misalnya: operator perbandingan > < == !="
   ]
  },
  {
   "cell_type": "code",
   "execution_count": 128,
   "id": "6043d756-a0a3-4b68-9ace-56663ae74c7e",
   "metadata": {},
   "outputs": [
    {
     "data": {
      "text/plain": [
       "False"
      ]
     },
     "execution_count": 128,
     "metadata": {},
     "output_type": "execute_result"
    }
   ],
   "source": [
    "\"x\" == 'Andi' "
   ]
  },
  {
   "cell_type": "markdown",
   "id": "71b1a6bd-ea3b-4c5a-af9e-ecabd7ba376f",
   "metadata": {},
   "source": [
    "## Return Function\n",
    "\n",
    "Function yang memiliki return alias nilai keluaran tertentu."
   ]
  },
  {
   "cell_type": "code",
   "execution_count": 130,
   "id": "ff9052a0-ae59-4247-b9fc-2fbc20d50941",
   "metadata": {},
   "outputs": [
    {
     "data": {
      "text/plain": [
       "12"
      ]
     },
     "execution_count": 130,
     "metadata": {},
     "output_type": "execute_result"
    }
   ],
   "source": [
    "x = 12\n",
    "x"
   ]
  },
  {
   "cell_type": "code",
   "execution_count": 135,
   "id": "84908aeb-1bcb-42fb-a5dc-065b6520c598",
   "metadata": {},
   "outputs": [],
   "source": [
    "# function tanpa return tidak memiliki value\n",
    "def f(x):\n",
    "    # nothing\n",
    "    pass"
   ]
  },
  {
   "cell_type": "code",
   "execution_count": 139,
   "id": "b217fd28-2c03-48d6-874f-5a19758b00a3",
   "metadata": {},
   "outputs": [],
   "source": [
    "f(2)\n",
    "f(1000000)\n",
    "f(\"Andi\")\n",
    "f(True)"
   ]
  },
  {
   "cell_type": "code",
   "execution_count": 148,
   "id": "946b14bb-449c-484c-9701-d5ae675efe0a",
   "metadata": {},
   "outputs": [],
   "source": [
    "# return function\n",
    "def f(x):\n",
    "    return x"
   ]
  },
  {
   "cell_type": "code",
   "execution_count": 149,
   "id": "20c3a111-09ca-4087-8d63-b59ef5fb74ee",
   "metadata": {},
   "outputs": [
    {
     "data": {
      "text/plain": [
       "4"
      ]
     },
     "execution_count": 149,
     "metadata": {},
     "output_type": "execute_result"
    }
   ],
   "source": [
    "f(x=2) + f(2)"
   ]
  },
  {
   "cell_type": "code",
   "execution_count": 150,
   "id": "28d93e80-787c-49cc-91a5-f8a165c3bb39",
   "metadata": {},
   "outputs": [
    {
     "data": {
      "text/plain": [
       "int"
      ]
     },
     "execution_count": 150,
     "metadata": {},
     "output_type": "execute_result"
    }
   ],
   "source": [
    "type(f(89))"
   ]
  },
  {
   "cell_type": "code",
   "execution_count": 151,
   "id": "78a1b312-817e-4aa9-a891-1b00f3243bed",
   "metadata": {},
   "outputs": [],
   "source": [
    "# print function\n",
    "def z(x):\n",
    "    print(x)"
   ]
  },
  {
   "cell_type": "markdown",
   "id": "c1971f96-46b5-4cec-9d7b-57ee80370ea6",
   "metadata": {},
   "source": [
    "z(x=2) + z(2)"
   ]
  },
  {
   "cell_type": "code",
   "execution_count": 153,
   "id": "fbf40a58-5b7b-4ae2-bb7a-ab3b3f34fa14",
   "metadata": {},
   "outputs": [
    {
     "name": "stdout",
     "output_type": "stream",
     "text": [
      "89\n"
     ]
    },
    {
     "data": {
      "text/plain": [
       "NoneType"
      ]
     },
     "execution_count": 153,
     "metadata": {},
     "output_type": "execute_result"
    }
   ],
   "source": [
    "type(z(89))"
   ]
  },
  {
   "cell_type": "code",
   "execution_count": 155,
   "id": "bd9b3118-91df-494c-8356-36ade5832633",
   "metadata": {},
   "outputs": [],
   "source": [
    "def A(x):\n",
    "    return x\n",
    "def B(y):\n",
    "    print(y)"
   ]
  },
  {
   "cell_type": "code",
   "execution_count": 156,
   "id": "4f82af5d-3b24-4231-ac6f-abf9f9aa97ac",
   "metadata": {},
   "outputs": [
    {
     "name": "stdout",
     "output_type": "stream",
     "text": [
      "12\n"
     ]
    }
   ],
   "source": [
    "B(y=A(x=12))"
   ]
  },
  {
   "cell_type": "markdown",
   "id": "f5fea221-b4bf-40a0-afa1-aa4ce0edc16c",
   "metadata": {},
   "source": [
    "## Lambda\n",
    "\n",
    "small anonymous return function"
   ]
  },
  {
   "cell_type": "code",
   "execution_count": 160,
   "id": "0962fb09-0795-4113-8c58-82c978c30436",
   "metadata": {},
   "outputs": [],
   "source": [
    "def f(x):\n",
    "    return x\n",
    "y = f(10)"
   ]
  },
  {
   "cell_type": "code",
   "execution_count": 161,
   "id": "71a39608-e803-4f0f-8cf8-869d4f20f46f",
   "metadata": {},
   "outputs": [
    {
     "data": {
      "text/plain": [
       "10"
      ]
     },
     "execution_count": 161,
     "metadata": {},
     "output_type": "execute_result"
    }
   ],
   "source": [
    "y"
   ]
  },
  {
   "cell_type": "code",
   "execution_count": 163,
   "id": "0bdb593c-d0eb-4564-be25-4d6f2b71ee81",
   "metadata": {},
   "outputs": [
    {
     "data": {
      "text/plain": [
       "10"
      ]
     },
     "execution_count": 163,
     "metadata": {},
     "output_type": "execute_result"
    }
   ],
   "source": [
    "y = lambda x : x\n",
    "# y adalah lambda (return function) dg arg x returnnya : x\n",
    "y(10)"
   ]
  },
  {
   "cell_type": "code",
   "execution_count": 164,
   "id": "662631dd-070b-491b-b4fd-e7cb8a2593d0",
   "metadata": {},
   "outputs": [
    {
     "data": {
      "text/plain": [
       "12"
      ]
     },
     "execution_count": 164,
     "metadata": {},
     "output_type": "execute_result"
    }
   ],
   "source": [
    "y = lambda x : x + 2\n",
    "# y adalah lambda (return function) dg arg x returnnya : x+2\n",
    "y(10)"
   ]
  },
  {
   "cell_type": "code",
   "execution_count": 165,
   "id": "1a81ae90-f8de-4b95-aa4d-9d9083d72f48",
   "metadata": {},
   "outputs": [
    {
     "data": {
      "text/plain": [
       "120"
      ]
     },
     "execution_count": 165,
     "metadata": {},
     "output_type": "execute_result"
    }
   ],
   "source": [
    "y = lambda x, y : x * y\n",
    "# y adalah lambda (return function) dg arg x, y returnnya : x*y\n",
    "y(10, 12)"
   ]
  },
  {
   "cell_type": "code",
   "execution_count": 167,
   "id": "a201d826-ef94-4843-917e-2230ddf24e23",
   "metadata": {},
   "outputs": [
    {
     "data": {
      "text/plain": [
       "240"
      ]
     },
     "execution_count": 167,
     "metadata": {},
     "output_type": "execute_result"
    }
   ],
   "source": [
    "y = lambda x, y, z : x * y * z\n",
    "# y adalah lambda (return function) dg arg x, y returnnya : x*y\n",
    "y(10, 12, 2)"
   ]
  },
  {
   "cell_type": "code",
   "execution_count": 168,
   "id": "9c1d7183-8fe6-4ebf-a417-a55eeeb7706c",
   "metadata": {},
   "outputs": [
    {
     "data": {
      "text/plain": [
       "80"
      ]
     },
     "execution_count": 168,
     "metadata": {},
     "output_type": "execute_result"
    }
   ],
   "source": [
    "y(z=2, x=4, y=10) # lambda kwarg"
   ]
  },
  {
   "cell_type": "code",
   "execution_count": 169,
   "id": "4aeb1cf2-bb55-4307-bbc5-6133d8671825",
   "metadata": {},
   "outputs": [
    {
     "data": {
      "text/plain": [
       "('Andi',)"
      ]
     },
     "execution_count": 169,
     "metadata": {},
     "output_type": "execute_result"
    }
   ],
   "source": [
    "y = lambda *x : x\n",
    "# y adalah lambda (return function) dg arg *x returnnya : x\n",
    "y(\"Andi\")"
   ]
  },
  {
   "cell_type": "code",
   "execution_count": 170,
   "id": "cc55654f-65bf-4b16-be8c-3848e597627c",
   "metadata": {},
   "outputs": [
    {
     "data": {
      "text/plain": [
       "('Andi', 'Budi', 'Caca')"
      ]
     },
     "execution_count": 170,
     "metadata": {},
     "output_type": "execute_result"
    }
   ],
   "source": [
    "y(\"Andi\", \"Budi\", \"Caca\")"
   ]
  },
  {
   "cell_type": "code",
   "execution_count": 172,
   "id": "dfa4307e-3ddc-4c5b-af03-87f638878e5d",
   "metadata": {},
   "outputs": [
    {
     "data": {
      "text/plain": [
       "'Andi'"
      ]
     },
     "execution_count": 172,
     "metadata": {},
     "output_type": "execute_result"
    }
   ],
   "source": [
    "# lambda tanpa arg\n",
    "y = lambda : \"Andi\"\n",
    "y()"
   ]
  }
 ],
 "metadata": {
  "kernelspec": {
   "display_name": "Python 3 (ipykernel)",
   "language": "python",
   "name": "python3"
  },
  "language_info": {
   "codemirror_mode": {
    "name": "ipython",
    "version": 3
   },
   "file_extension": ".py",
   "mimetype": "text/x-python",
   "name": "python",
   "nbconvert_exporter": "python",
   "pygments_lexer": "ipython3",
   "version": "3.10.0"
  }
 },
 "nbformat": 4,
 "nbformat_minor": 5
}
