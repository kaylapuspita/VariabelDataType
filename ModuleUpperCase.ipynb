{
 "cells": [
  {
   "cell_type": "code",
   "execution_count": 33,
   "id": "f91a9350-ca05-458c-a8cd-45316b68a78f",
   "metadata": {},
   "outputs": [
    {
     "name": "stdout",
     "output_type": "stream",
     "text": [
      "Jumlah huruf kapital dalam kata 'Informatika' adalah 1\n"
     ]
    }
   ],
   "source": [
    "from hitung_huruf_kapital import hitung_huruf_kapital\n",
    "\n",
    "kata = \"Informatika\"\n",
    "jumlah_huruf_kapital = hitung_huruf_kapital(kata)\n",
    "print(f\"Jumlah huruf kapital dalam kata '{kata}' adalah {jumlah_huruf_kapital}\")"
   ]
  },
  {
   "cell_type": "code",
   "execution_count": null,
   "id": "6ef2fb65-a108-4653-812b-2f3197443db3",
   "metadata": {},
   "outputs": [],
   "source": []
  }
 ],
 "metadata": {
  "kernelspec": {
   "display_name": "Python 3 (ipykernel)",
   "language": "python",
   "name": "python3"
  },
  "language_info": {
   "codemirror_mode": {
    "name": "ipython",
    "version": 3
   },
   "file_extension": ".py",
   "mimetype": "text/x-python",
   "name": "python",
   "nbconvert_exporter": "python",
   "pygments_lexer": "ipython3",
   "version": "3.11.7"
  }
 },
 "nbformat": 4,
 "nbformat_minor": 5
}
