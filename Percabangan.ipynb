{
 "cells": [
  {
   "cell_type": "code",
   "execution_count": 2,
   "id": "77a08693",
   "metadata": {},
   "outputs": [
    {
     "name": "stdout",
     "output_type": "stream",
     "text": [
      "Isikan bilangan:3\n",
      "3 adalah bilangan ganjil\n"
     ]
    }
   ],
   "source": [
    "nilai = int(input('Isikan bilangan:'))\n",
    "sisa_bagi = nilai % 2\n",
    "\n",
    "if sisa_bagi ==0:\n",
    "    print(nilai,\"adalah bilangan genap\")\n",
    "else:\n",
    "    print(f\"{nilai} adalah bilangan ganjil\")\n",
    "        "
   ]
  },
  {
   "cell_type": "code",
   "execution_count": 9,
   "id": "f2de60bf",
   "metadata": {},
   "outputs": [
    {
     "name": "stdout",
     "output_type": "stream",
     "text": [
      "Isikan Nilai Pemrograman Mahasiswa:50\n",
      "Nilai Huruf Mahasiswa: E\n"
     ]
    }
   ],
   "source": [
    "# 0 - 49 => E\n",
    "# 50 - 59 => D\n",
    "# 60 - 69 => C\n",
    "# 70 - 84 => B\n",
    "# 85 - 100 => A\n",
    "\n",
    "nilai_mhs = int(input('Isikan Nilai Pemrograman Mahasiswa:'))\n",
    "keterangan = \"\"\n",
    "if nilai_mhs >=0 and nilai_mhs <= 50:\n",
    "    keterangan = \"E\"\n",
    "elif nilai_mhs >=50 and nilai_mhs <= 60:\n",
    "    keterangan = \"D\"\n",
    "elif nilai_mhs >=60 and nilai_mhs <= 69:\n",
    "    keterangan = \"C\"\n",
    "elif nilai_mhs >=70 and nilai_mhs <= 84:\n",
    "    keterangan = \"B\"\n",
    "elif nilai_mhs >=85 and nilai_mhs <= 100:\n",
    "    keterangan = \"A\"\n",
    "else:\n",
    "    keterangan=\"Input Anda Salah\"\n",
    "print(\"Nilai Huruf Mahasiswa:\", keterangan)"
   ]
  }
 ],
 "metadata": {
  "kernelspec": {
   "display_name": "Python 3 (ipykernel)",
   "language": "python",
   "name": "python3"
  },
  "language_info": {
   "codemirror_mode": {
    "name": "ipython",
    "version": 3
   },
   "file_extension": ".py",
   "mimetype": "text/x-python",
   "name": "python",
   "nbconvert_exporter": "python",
   "pygments_lexer": "ipython3",
   "version": "3.9.12"
  }
 },
 "nbformat": 4,
 "nbformat_minor": 5
}
