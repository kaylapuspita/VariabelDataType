{
 "cells": [
  {
   "cell_type": "code",
   "execution_count": 5,
   "id": "d7b1166b-ce60-4b31-a7d6-a9609cb39e4d",
   "metadata": {},
   "outputs": [
    {
     "name": "stdin",
     "output_type": "stream",
     "text": [
      "Masukkan p =  2\n",
      "Masukkan l =  4\n"
     ]
    },
    {
     "name": "stdout",
     "output_type": "stream",
     "text": [
      "Luas Persegi Panjang =  8\n"
     ]
    },
    {
     "name": "stdin",
     "output_type": "stream",
     "text": [
      "Masukkan a =  4\n",
      "Masukkan t =  8\n"
     ]
    },
    {
     "name": "stdout",
     "output_type": "stream",
     "text": [
      "Luas Segitiga =  16.0\n"
     ]
    }
   ],
   "source": [
    "import luasBangunDatar\n",
    "\n",
    "p = int(input(\"Masukkan p = \"))\n",
    "l = int(input(\"Masukkan l = \"))\n",
    "\n",
    "print(\"Luas Persegi Panjang = \", luasBangunDatar.LuasPersegiPanjang(p,l))\n",
    "\n",
    "a = int(input(\"Masukkan a = \"))\n",
    "t = int(input(\"Masukkan t = \"))\n",
    "print(\"Luas Segitiga = \", luasBangunDatar.LuasSegitiga(a,t))"
   ]
  },
  {
   "cell_type": "code",
   "execution_count": 6,
   "id": "aed3b677-372f-4cb8-be0a-22d656a6cd85",
   "metadata": {},
   "outputs": [
    {
     "name": "stdin",
     "output_type": "stream",
     "text": [
      "Masukkan sisi =  4\n"
     ]
    },
    {
     "name": "stdout",
     "output_type": "stream",
     "text": [
      "Luas Persegi =  16\n"
     ]
    }
   ],
   "source": [
    "from luasBangunDatar import LuasPersegi\n",
    "\n",
    "s = int(input(\"Masukkan sisi = \"))\n",
    "\n",
    "print(\"Luas Persegi = \", LuasPersegi(s))"
   ]
  },
  {
   "cell_type": "code",
   "execution_count": null,
   "id": "5126aee9-3f1a-4b57-bfb3-d2a9fd0fe19f",
   "metadata": {},
   "outputs": [],
   "source": []
  }
 ],
 "metadata": {
  "kernelspec": {
   "display_name": "Python 3 (ipykernel)",
   "language": "python",
   "name": "python3"
  },
  "language_info": {
   "codemirror_mode": {
    "name": "ipython",
    "version": 3
   },
   "file_extension": ".py",
   "mimetype": "text/x-python",
   "name": "python",
   "nbconvert_exporter": "python",
   "pygments_lexer": "ipython3",
   "version": "3.11.7"
  }
 },
 "nbformat": 4,
 "nbformat_minor": 5
}
