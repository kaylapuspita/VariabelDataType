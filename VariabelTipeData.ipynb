{
 "cells": [
  {
   "cell_type": "markdown",
   "id": "9eaaabbe",
   "metadata": {},
   "source": [
    "<h1>Belajar Variabel dan Tipe Data</h1>\n",
    "<hr></hr>\n",
    "Tipe di python yaitu <b>Integer, Float, Boolean, String, Complex</b>"
   ]
  },
  {
   "cell_type": "code",
   "execution_count": 3,
   "id": "3d341735",
   "metadata": {},
   "outputs": [
    {
     "name": "stdout",
     "output_type": "stream",
     "text": [
      "100\n",
      "<class 'int'>\n"
     ]
    }
   ],
   "source": [
    "data_integer = 100\n",
    "data_integer\n",
    "print(data_integer)\n",
    "print(type(data_integer))"
   ]
  },
  {
   "cell_type": "code",
   "execution_count": 4,
   "id": "43a36ac0",
   "metadata": {},
   "outputs": [
    {
     "name": "stdout",
     "output_type": "stream",
     "text": [
      "10.5\n",
      "<class 'float'>\n"
     ]
    }
   ],
   "source": [
    "data_float = 10.5\n",
    "print(data_float)\n",
    "print(type(data_float))"
   ]
  },
  {
   "cell_type": "code",
   "execution_count": 5,
   "id": "d782b6c8",
   "metadata": {},
   "outputs": [
    {
     "name": "stdout",
     "output_type": "stream",
     "text": [
      "True\n",
      "<class 'bool'>\n"
     ]
    }
   ],
   "source": [
    "data_boolean = True\n",
    "print(data_boolean)\n",
    "print(type(data_boolean))"
   ]
  },
  {
   "cell_type": "code",
   "execution_count": 21,
   "id": "624b12e9",
   "metadata": {},
   "outputs": [
    {
     "name": "stdout",
     "output_type": "stream",
     "text": [
      "10\n",
      "<class 'str'>\n"
     ]
    }
   ],
   "source": [
    "data_string = '10'\n",
    "print(data_string)\n",
    "print(type(data_string))"
   ]
  },
  {
   "cell_type": "code",
   "execution_count": 7,
   "id": "80a3eba9",
   "metadata": {},
   "outputs": [
    {
     "name": "stdout",
     "output_type": "stream",
     "text": [
      "(5+6j)\n",
      "<class 'complex'>\n"
     ]
    }
   ],
   "source": [
    "data_complex = complex(5,6)\n",
    "print(data_complex)\n",
    "print(type(data_complex))"
   ]
  },
  {
   "cell_type": "markdown",
   "id": "a9d86ac9",
   "metadata": {},
   "source": [
    "<h2>Casting</h2><hr>\n",
    "<b><font color = \"red\">Casting</font></b> adalah melakukan proses konversi tipe data<br>\n",
    "<ul>\n",
    "    <li>Sintak casting menggunakan (tipe data)</li>\n",
    "    <li>Casting dapat dilakukan untuk semua tipe data</li>\n",
    " </ul>"
   ]
  },
  {
   "cell_type": "code",
   "execution_count": 13,
   "id": "aaf2b435",
   "metadata": {},
   "outputs": [
    {
     "name": "stdout",
     "output_type": "stream",
     "text": [
      "100\n",
      "100.0\n",
      "<class 'str'>\n",
      "<class 'float'>\n"
     ]
    }
   ],
   "source": [
    "int_to_string = str(data_integer)\n",
    "int_to_float = float(data_integer)\n",
    "int_to_bool = bool(data_integer)\n",
    "\n",
    "\n",
    "print(int_to_string)\n",
    "print(int_to_float)\n",
    "print(int_to_bool)\n",
    "\n",
    "print(type(int_to_string))\n",
    "print(type(int_to_float))\n",
    "print(type(int_to_bool))"
   ]
  },
  {
   "cell_type": "code",
   "execution_count": 24,
   "id": "2967a358",
   "metadata": {},
   "outputs": [
    {
     "name": "stdout",
     "output_type": "stream",
     "text": [
      "10\n",
      "10.0\n",
      "True\n",
      "<class 'int'>\n",
      "<class 'float'>\n",
      "<class 'bool'>\n"
     ]
    }
   ],
   "source": [
    "string_to_int = int(data_string)\n",
    "string_to_float = float(data_string)\n",
    "string_to_bool = bool(data_string)\n",
    "\n",
    "\n",
    "print(string_to_int)\n",
    "print(string_to_float)\n",
    "print(string_to_bool)\n",
    "\n",
    "\n",
    "print(type(string_to_int))\n",
    "print(type(string_to_float))\n",
    "print(type(string_to_bool))\n"
   ]
  },
  {
   "cell_type": "code",
   "execution_count": 26,
   "id": "0d350d71",
   "metadata": {},
   "outputs": [
    {
     "name": "stdout",
     "output_type": "stream",
     "text": [
      "10\n",
      "10.5\n",
      "True\n",
      "<class 'int'>\n",
      "<class 'float'>\n",
      "<class 'bool'>\n"
     ]
    }
   ],
   "source": [
    "float_to_int = int(data_float)\n",
    "float_to_float = float(data_float)\n",
    "float_to_bool = bool(data_float)\n",
    "\n",
    "\n",
    "print(float_to_int)\n",
    "print(float_to_float)\n",
    "print(float_to_bool)\n",
    "\n",
    "\n",
    "print(type(float_to_int))\n",
    "print(type(float_to_float))\n",
    "print(type(float_to_bool))"
   ]
  },
  {
   "cell_type": "code",
   "execution_count": 29,
   "id": "b126df89",
   "metadata": {},
   "outputs": [
    {
     "name": "stdout",
     "output_type": "stream",
     "text": [
      "1\n",
      "1.0\n",
      "True\n",
      "<class 'int'>\n",
      "<class 'float'>\n",
      "<class 'str'>\n"
     ]
    }
   ],
   "source": [
    "boolean_to_int = int(data_boolean)\n",
    "boolean_to_float = float(data_boolean)\n",
    "boolean_to_str = str(data_boolean)\n",
    "\n",
    "\n",
    "print(boolean_to_int)\n",
    "print(boolean_to_float)\n",
    "print(boolean_to_str)\n",
    "\n",
    "\n",
    "print(type(boolean_to_int))\n",
    "print(type(boolean_to_float))\n",
    "print(type(boolean_to_str))"
   ]
  }
 ],
 "metadata": {
  "kernelspec": {
   "display_name": "Python 3 (ipykernel)",
   "language": "python",
   "name": "python3"
  },
  "language_info": {
   "codemirror_mode": {
    "name": "ipython",
    "version": 3
   },
   "file_extension": ".py",
   "mimetype": "text/x-python",
   "name": "python",
   "nbconvert_exporter": "python",
   "pygments_lexer": "ipython3",
   "version": "3.9.12"
  }
 },
 "nbformat": 4,
 "nbformat_minor": 5
}
