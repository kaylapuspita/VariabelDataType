{
 "cells": [
  {
   "cell_type": "code",
   "execution_count": 14,
   "id": "17352df3-d634-4eeb-bc8c-8046b02f9d41",
   "metadata": {},
   "outputs": [],
   "source": [
    "def hello_name(name):\n",
    "  return \"Hello \" + name + \"!\""
   ]
  },
  {
   "cell_type": "code",
   "execution_count": 15,
   "id": "1a46508f-bfcf-478c-b876-07ae6cdd0f18",
   "metadata": {},
   "outputs": [],
   "source": [
    "def make_abba(a, b):\n",
    "  return a + 2*b + a"
   ]
  },
  {
   "cell_type": "code",
   "execution_count": 13,
   "id": "5166a59b-8252-40cd-90b9-f7b40abce9a9",
   "metadata": {},
   "outputs": [],
   "source": [
    "def make_tags(tag, word):\n",
    "  return \"<\"+tag+\">\"+word+\"</\"+tag+\">\""
   ]
  },
  {
   "cell_type": "code",
   "execution_count": 16,
   "id": "46de5c0b-fc43-4192-913c-845a71d771f0",
   "metadata": {},
   "outputs": [],
   "source": [
    "def make_out_word(out, word):\n",
    "  return out[:2] + word + out[2:]"
   ]
  },
  {
   "cell_type": "code",
   "execution_count": 17,
   "id": "0aed8bc9-20fa-4221-9126-404d03746292",
   "metadata": {},
   "outputs": [],
   "source": [
    "def extra_end(str):\n",
    "  return str[-2:]*3"
   ]
  },
  {
   "cell_type": "code",
   "execution_count": null,
   "id": "f2e7b114-c72b-447d-883f-0172f9837c71",
   "metadata": {},
   "outputs": [],
   "source": [
    "def first_two(str):\n",
    "  return str if len(str)<=2 else str[:2]"
   ]
  },
  {
   "cell_type": "code",
   "execution_count": 18,
   "id": "e513c67b-bb74-4cf2-9ffb-50fdf1e8b4b4",
   "metadata": {},
   "outputs": [],
   "source": [
    "def first_half(str):\n",
    "  return str[:len(str)/2]"
   ]
  },
  {
   "cell_type": "code",
   "execution_count": null,
   "id": "b32cfe97-f9a2-40f8-a022-76f33fde2922",
   "metadata": {},
   "outputs": [],
   "source": [
    "def without_end(str):\n",
    "  return str[1:-1]"
   ]
  },
  {
   "cell_type": "code",
   "execution_count": 19,
   "id": "5d467a55-07a6-4eed-a0c8-d50ce2494860",
   "metadata": {},
   "outputs": [],
   "source": [
    "def combo_string(a, b):\n",
    "  return a+b+a if len(a)<len(b) else b+a+b"
   ]
  },
  {
   "cell_type": "code",
   "execution_count": 20,
   "id": "83b8f9e7-d1a5-40d0-af79-7c20c9d23f26",
   "metadata": {},
   "outputs": [],
   "source": [
    "def non_start(a, b):\n",
    "  return a[1:] + b[1:]"
   ]
  },
  {
   "cell_type": "code",
   "execution_count": null,
   "id": "9e3a4bf3-70f0-4c72-bb09-6431f0befe3d",
   "metadata": {},
   "outputs": [],
   "source": [
    "def left2(str):\n",
    "  return str[2:]+str[:2]"
   ]
  },
  {
   "cell_type": "code",
   "execution_count": null,
   "id": "27e15534-db34-4ca3-827c-a79c04a9e528",
   "metadata": {},
   "outputs": [],
   "source": []
  }
 ],
 "metadata": {
  "kernelspec": {
   "display_name": "Python 3 (ipykernel)",
   "language": "python",
   "name": "python3"
  },
  "language_info": {
   "codemirror_mode": {
    "name": "ipython",
    "version": 3
   },
   "file_extension": ".py",
   "mimetype": "text/x-python",
   "name": "python",
   "nbconvert_exporter": "python",
   "pygments_lexer": "ipython3",
   "version": "3.11.7"
  }
 },
 "nbformat": 4,
 "nbformat_minor": 5
}
