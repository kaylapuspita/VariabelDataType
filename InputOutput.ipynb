{
 "cells": [
  {
   "cell_type": "code",
   "execution_count": 2,
   "id": "e7e10a88",
   "metadata": {},
   "outputs": [
    {
     "name": "stdout",
     "output_type": "stream",
     "text": [
      "Isikan Nma AwalKayla\n",
      "Isikan Nama TengahPuspita\n",
      "Isikan Nama AkhirKhairiyah\n",
      "Selamat Datang Kayla Puspita Khairiyah S. Kom\n"
     ]
    }
   ],
   "source": [
    "fname = input('Isikan Nma Awal')\n",
    "mname = input('Isikan Nama Tengah')\n",
    "Iname = input('Isikan Nama Akhir')\n",
    "\n",
    "print ('Selamat Datang', fname,mname,Iname,\"S. Kom\")\n",
    "\n"
   ]
  },
  {
   "cell_type": "code",
   "execution_count": 4,
   "id": "91732a3f",
   "metadata": {},
   "outputs": [
    {
     "name": "stdout",
     "output_type": "stream",
     "text": [
      "Isikan Bilangan 1:2\n",
      "Isikan Bilangan 2:4\n",
      "<class 'str'>\n",
      "Hasil Penjumlahan 6\n"
     ]
    }
   ],
   "source": [
    "bil1 = input('Isikan Bilangan 1:')\n",
    "bil2 = input('Isikan Bilangan 2:')\n",
    "print(type(bil1))\n",
    "hasil = int(bil1) + int(bil2)\n",
    "print('Hasil Penjumlahan', hasil)"
   ]
  },
  {
   "cell_type": "code",
   "execution_count": 6,
   "id": "7c13c3e9",
   "metadata": {},
   "outputs": [
    {
     "name": "stdout",
     "output_type": "stream",
     "text": [
      "Isikan Panjang Persegi:2\n",
      "Isikan Lebar Persegi:4\n",
      "Luas Persegi Panjang 8\n",
      "Keliling Persegi Panjang 12\n"
     ]
    }
   ],
   "source": [
    "p = input('Isikan Panjang Persegi:')\n",
    "l = input('Isikan Lebar Persegi:')\n",
    "\n",
    "luas = int(p) * int(l)\n",
    "keliling = 2 * (int(p) + int(l))\n",
    "\n",
    "print('Luas Persegi Panjang',luas)\n",
    "print('Keliling Persegi Panjang',keliling)"
   ]
  },
  {
   "cell_type": "code",
   "execution_count": 7,
   "id": "57424cfe",
   "metadata": {},
   "outputs": [
    {
     "name": "stdout",
     "output_type": "stream",
     "text": [
      "Januari#####Februari#####Maret#####April\n"
     ]
    }
   ],
   "source": [
    "print(\"Januari\",\"Februari\",\"Maret\",\"April\", sep=\"#\"*5)"
   ]
  },
  {
   "cell_type": "code",
   "execution_count": 13,
   "id": "2dabb2f4",
   "metadata": {},
   "outputs": [
    {
     "name": "stdout",
     "output_type": "stream",
     "text": [
      "Senin@Selasa@Rabu@Kamis@Jumat@Sabtu@Minggu^_^One\n",
      "Two\n",
      "Three\n",
      "Four\n"
     ]
    }
   ],
   "source": [
    "print(\"Senin\",\"Selasa\",\"Rabu\",\"Kamis\",\"Jumat\",\"Sabtu\",\"Minggu\",sep=\"@\",end='^_^')\n",
    "print(\"One\",\"Two\",\"Three\",\"Four\",sep=\"\\n\")"
   ]
  },
  {
   "cell_type": "code",
   "execution_count": 10,
   "id": "5214df69",
   "metadata": {},
   "outputs": [
    {
     "name": "stdout",
     "output_type": "stream",
     "text": [
      "Perkalian 4 dengan 6 adalah 24\n"
     ]
    }
   ],
   "source": [
    "number1 = 4\n",
    "number2 = 6\n",
    "\n",
    "# Hasil perkalian 4 dengan 6 adalah 24\n",
    "print(\"Perkalian {} dengan {} adalah {}\".format(number1,number2,number1*number2))"
   ]
  },
  {
   "cell_type": "code",
   "execution_count": 12,
   "id": "5c609164",
   "metadata": {},
   "outputs": [
    {
     "name": "stdout",
     "output_type": "stream",
     "text": [
      "Urutan Huruf Yibo Linyi Yangyang\n"
     ]
    }
   ],
   "source": [
    "first_letter = \"Linyi\"\n",
    "middle_letter = \"Yibo\"\n",
    "last_letter = \"Yangyang\"\n",
    "\n",
    "print(\"Urutan Huruf {1} {0} {2}\".format(first_letter,middle_letter,last_letter))"
   ]
  },
  {
   "cell_type": "code",
   "execution_count": 15,
   "id": "2b74006e",
   "metadata": {},
   "outputs": [
    {
     "name": "stdout",
     "output_type": "stream",
     "text": [
      "Sekarang tanggal 20 Bulan Maret Tahun 2024\n"
     ]
    }
   ],
   "source": [
    "# Sekarang tanggal 20 Bulan Maret Tahun 2024\n",
    "print(\"Sekarang tanggal {tanggal} Bulan {bulan} Tahun {tahun}\".format(tanggal = 20,bulan=\"Maret\",tahun=2024))"
   ]
  },
  {
   "cell_type": "code",
   "execution_count": 19,
   "id": "3297ad67",
   "metadata": {},
   "outputs": [
    {
     "name": "stdout",
     "output_type": "stream",
     "text": [
      "Huruf pertama adalah: U\n",
      "Huruf Terakhir adalah: a\n",
      "Huruf Range 0-10 Universitas\n",
      "Putra\n",
      "Nusa Putra\n",
      "artuP asuN satisrevinU\n"
     ]
    }
   ],
   "source": [
    "kampus = \"Universitas Nusa Putra\"\n",
    "print(\"Huruf pertama adalah:\",kampus[0])\n",
    "print(\"Huruf Terakhir adalah:\",kampus[-1])\n",
    "print(\"Huruf Range 0-10\",kampus[0:11])\n",
    "print(kampus[-5:])\n",
    "print(kampus[12:])\n",
    "#Reverse String\n",
    "print(kampus[::-1])"
   ]
  },
  {
   "cell_type": "code",
   "execution_count": 24,
   "id": "0eea60ad",
   "metadata": {},
   "outputs": [
    {
     "name": "stdout",
     "output_type": "stream",
     "text": [
      "['Sukabumi', 'Surabaya', 'Yogya', 'Bandung']\n",
      "Sukabumi\n",
      "Surabaya\n",
      "Yogya\n",
      "Bandung\n",
      "Sukabumi@Surabaya@Yogya@Bandung\n"
     ]
    }
   ],
   "source": [
    "#Split => String -> List\n",
    "kota =  \"Sukabumi Surabaya Yogya Bandung\"\n",
    "list_kota = kota.split()\n",
    "print(list_kota)\n",
    "print(list_kota[0])\n",
    "print(list_kota[1])\n",
    "print(list_kota[2])\n",
    "print(list_kota[3])\n",
    "\n",
    "#Join => List -> String\n",
    "join_kota = \"@\".join(list_kota)\n",
    "print(join_kota)"
   ]
  },
  {
   "cell_type": "code",
   "execution_count": 2,
   "id": "e0a60f0c",
   "metadata": {},
   "outputs": [
    {
     "name": "stdout",
     "output_type": "stream",
     "text": [
      "Isikan Nama Anda:Kayla Puspita\n",
      "Isikan Tanggal Lahir:31/03/2005\n",
      "Nama Awal : Kayla\n",
      "Nama Akhir: Puspita\n",
      "bulan lahir: 03 maret\n",
      "tanggal lahir: 31\n",
      "tahun lahir: 2005\n",
      "Nama Inisial: KP\n"
     ]
    }
   ],
   "source": [
    "# Isikan Nama Anda : Kayla Puspita\n",
    "# Isikan Tanggal Lahir : 31/03/2005\n",
    "# Output:\n",
    "# Nama Awal : Kayla\n",
    "# Nama Akhir : Puspita\n",
    "# Tanggal Lahir : 31\n",
    "# Bulan Lahir : 03\n",
    "# Tahun Lahir : 2005\n",
    "# Nama Inisial : KP\n",
    "nama = input('Isikan Nama Anda:')\n",
    "tanggal = input('Isikan Tanggal Lahir:')\n",
    "\n",
    "list_nama =  nama.split()\n",
    "print(\"Nama Awal :\", list_nama[0])\n",
    "print(\"Nama Akhir:\", list_nama[1])\n",
    "\n",
    "list_tanggal = tanggal.split('/')\n",
    "if list_tanggal[1]==\"01\":\n",
    "    keterangan = \"januari\"\n",
    "elif list_tanggal[1]==\"02\":\n",
    "    keterangan = \"februari\"\n",
    "elif list_tanggal[1]==\"03\":\n",
    "    keterangan = \"maret\"\n",
    "elif list_tanggal[1]==\"04\":\n",
    "    keterangan = \"april\"\n",
    "elif list_tanggal[1]==\"05\":\n",
    "    keterangan = \"mei\"\n",
    "elif list_tanggal[1]==\"06\":\n",
    "    keterangan = \"juni\"\n",
    "elif list_tanggal[1]==\"07\":\n",
    "    keterangan = \"juli\"\n",
    "elif list_tanggal[1]==\"08\":\n",
    "    keterangan = \"agustus\"\n",
    "elif list_tanggal[1]==\"09\":\n",
    "    keterangan = \"september\"\n",
    "elif list_tanggal[1]==\"10\":\n",
    "    keterangan = \"oktober\"\n",
    "elif list_tanggal[1]==\"11\":\n",
    "    keterangan = \"november\"\n",
    "elif list_tanggal[1]==\"12\":\n",
    "    keterangan = \"desember\"\n",
    "    \n",
    "print(\"bulan lahir:\", list_tanggal[1], keterangan)\n",
    "print(\"tanggal lahir:\", list_tanggal[0])\n",
    "\n",
    "print(\"tahun lahir:\",  list_tanggal[2])\n",
    "\n",
    "inisial = list_nama[0][0] + list_nama[1][0]\n",
    "print(\"Nama Inisial:\", inisial)\n",
    "\n",
    "\n",
    "\n",
    "\n",
    "\n"
   ]
  },
  {
   "cell_type": "code",
   "execution_count": null,
   "id": "b5c927a3",
   "metadata": {},
   "outputs": [],
   "source": []
  }
 ],
 "metadata": {
  "kernelspec": {
   "display_name": "Python 3 (ipykernel)",
   "language": "python",
   "name": "python3"
  },
  "language_info": {
   "codemirror_mode": {
    "name": "ipython",
    "version": 3
   },
   "file_extension": ".py",
   "mimetype": "text/x-python",
   "name": "python",
   "nbconvert_exporter": "python",
   "pygments_lexer": "ipython3",
   "version": "3.9.12"
  }
 },
 "nbformat": 4,
 "nbformat_minor": 5
}
