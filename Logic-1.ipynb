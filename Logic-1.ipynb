{
 "cells": [
  {
   "cell_type": "code",
   "execution_count": 1,
   "id": "8d05cd43-aca1-4798-90e4-3699dc21a59c",
   "metadata": {},
   "outputs": [],
   "source": [
    "def cigar_party(cigars, is_weekend):\n",
    "    if is_weekend:\n",
    "        return cigars >= 40\n",
    "    else:\n",
    "        return 40 <= cigars <= 60"
   ]
  },
  {
   "cell_type": "code",
   "execution_count": null,
   "id": "e0f2c0f7-6278-4b1c-83ff-9278c82a57f7",
   "metadata": {},
   "outputs": [],
   "source": [
    "def date_fashion(you, date):\n",
    "    if you <= 2 or date <= 2:\n",
    "        return 0\n",
    "    elif you >= 8 or date >= 8:\n",
    "        return 2\n",
    "    else:\n",
    "        return 1"
   ]
  },
  {
   "cell_type": "code",
   "execution_count": null,
   "id": "ae13fa9c-9805-41b8-83bd-f0c086eb866b",
   "metadata": {},
   "outputs": [],
   "source": [
    "def squirrel_play(temp, is_summer):\n",
    "    if is_summer:\n",
    "        return temp >= 60 and temp <= 100\n",
    "    else:\n",
    "        return temp >= 60 and temp <= 90"
   ]
  },
  {
   "cell_type": "code",
   "execution_count": null,
   "id": "d5b526eb-756c-4fbb-9575-6caf653eeddb",
   "metadata": {},
   "outputs": [],
   "source": [
    "def caught_speeding(speed, is_birthday):\n",
    "    if is_birthday:\n",
    "        speed -= 5\n",
    "    \n",
    "    if speed <= 60:\n",
    "        return 0\n",
    "    elif 61 <= speed <= 80:\n",
    "        return 1\n",
    "    else:\n",
    "        return 2"
   ]
  },
  {
   "cell_type": "code",
   "execution_count": null,
   "id": "6e8ca90a-d239-4cc9-8377-b60304de8ed5",
   "metadata": {},
   "outputs": [],
   "source": [
    "def sorta_sum(a, b):\n",
    "  result = a + b\n",
    "  if 10 <= result <= 19:\n",
    "      return 20\n",
    "  return result"
   ]
  },
  {
   "cell_type": "code",
   "execution_count": null,
   "id": "54b4d464-08c4-4808-8e8c-b6a5a7003cba",
   "metadata": {},
   "outputs": [],
   "source": [
    "def alarm_clock(day, vacation):\n",
    "    if vacation:\n",
    "        if day in [0, 6]:  # Weekend\n",
    "            return \"off\"\n",
    "        else:  # Weekday\n",
    "            return \"10:00\"\n",
    "    else:\n",
    "        if day in [0, 6]:  # Weekend\n",
    "            return \"10:00\"\n",
    "        else:  # Weekday\n",
    "            return \"7:00\""
   ]
  },
  {
   "cell_type": "code",
   "execution_count": null,
   "id": "ecde33fc-790f-4b27-80bf-cd1203dbc3d1",
   "metadata": {},
   "outputs": [],
   "source": [
    "def love6(a, b):\n",
    "  return a == 6 or b == 6 or a + b == 6 or abs(a - b) == 6"
   ]
  },
  {
   "cell_type": "code",
   "execution_count": null,
   "id": "ce8febde-6d6e-4574-9301-c9d20a4df0c5",
   "metadata": {},
   "outputs": [],
   "source": [
    "def in1to10(n, outside_mode):\n",
    "    if outside_mode:\n",
    "        return n <= 1 or n >= 10\n",
    "    else:\n",
    "        return 1 <= n <= 10"
   ]
  },
  {
   "cell_type": "code",
   "execution_count": null,
   "id": "1efc006a-9f88-46dc-86b7-01555b5cbc1f",
   "metadata": {},
   "outputs": [],
   "source": [
    "def near_ten(num):\n",
    "  return num % 10 <= 2 or num % 10 >= 8"
   ]
  },
  {
   "cell_type": "code",
   "execution_count": null,
   "id": "f6175fd1-10df-4ac5-993b-0cea1ebcb2dd",
   "metadata": {},
   "outputs": [],
   "source": []
  }
 ],
 "metadata": {
  "kernelspec": {
   "display_name": "Python 3 (ipykernel)",
   "language": "python",
   "name": "python3"
  },
  "language_info": {
   "codemirror_mode": {
    "name": "ipython",
    "version": 3
   },
   "file_extension": ".py",
   "mimetype": "text/x-python",
   "name": "python",
   "nbconvert_exporter": "python",
   "pygments_lexer": "ipython3",
   "version": "3.11.7"
  }
 },
 "nbformat": 4,
 "nbformat_minor": 5
}
