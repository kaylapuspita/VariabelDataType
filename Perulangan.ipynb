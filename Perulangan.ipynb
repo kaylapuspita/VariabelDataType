{
 "cells": [
  {
   "cell_type": "code",
   "execution_count": 1,
   "id": "8f30debd",
   "metadata": {},
   "outputs": [
    {
     "name": "stdout",
     "output_type": "stream",
     "text": [
      "1\n",
      "2\n",
      "3\n",
      "4\n",
      "5\n",
      "6\n",
      "7\n",
      "8\n",
      "9\n",
      "10\n"
     ]
    }
   ],
   "source": [
    "#For in range\n",
    "#print 1 - 10\n",
    "\n",
    "for i in range(1,11):\n",
    "    print(i)"
   ]
  },
  {
   "cell_type": "code",
   "execution_count": 2,
   "id": "ca6cc383",
   "metadata": {},
   "outputs": [
    {
     "name": "stdout",
     "output_type": "stream",
     "text": [
      "10\n",
      "20\n",
      "30\n",
      "40\n",
      "50\n",
      "60\n",
      "70\n",
      "80\n",
      "90\n",
      "100\n"
     ]
    }
   ],
   "source": [
    "#print 10 20 30 40 50 --- 100\n",
    "\n",
    "for i in range(1,11):\n",
    "    print(i*10)"
   ]
  },
  {
   "cell_type": "code",
   "execution_count": 3,
   "id": "a9435cae",
   "metadata": {},
   "outputs": [
    {
     "name": "stdout",
     "output_type": "stream",
     "text": [
      "10\n",
      "11\n",
      "12\n",
      "13\n",
      "14\n",
      "15\n",
      "16\n",
      "17\n",
      "18\n",
      "19\n",
      "20\n",
      "21\n",
      "22\n",
      "23\n",
      "24\n",
      "25\n",
      "26\n",
      "27\n",
      "28\n",
      "29\n",
      "30\n",
      "31\n",
      "32\n",
      "33\n",
      "34\n",
      "35\n",
      "36\n",
      "37\n",
      "38\n",
      "39\n",
      "40\n",
      "41\n",
      "42\n",
      "43\n",
      "44\n",
      "45\n",
      "46\n",
      "47\n",
      "48\n",
      "49\n",
      "50\n",
      "51\n",
      "52\n",
      "53\n",
      "54\n",
      "55\n",
      "56\n",
      "57\n",
      "58\n",
      "59\n",
      "60\n",
      "61\n",
      "62\n",
      "63\n",
      "64\n",
      "65\n",
      "66\n",
      "67\n",
      "68\n",
      "69\n",
      "70\n",
      "71\n",
      "72\n",
      "73\n",
      "74\n",
      "75\n",
      "76\n",
      "77\n",
      "78\n",
      "79\n",
      "80\n",
      "81\n",
      "82\n",
      "83\n",
      "84\n",
      "85\n",
      "86\n",
      "87\n",
      "88\n",
      "89\n",
      "90\n",
      "91\n",
      "92\n",
      "93\n",
      "94\n",
      "95\n",
      "96\n",
      "97\n",
      "98\n",
      "99\n"
     ]
    }
   ],
   "source": [
    "for i in range(10,100):\n",
    "    print(i)"
   ]
  },
  {
   "cell_type": "code",
   "execution_count": 4,
   "id": "320b7a54",
   "metadata": {},
   "outputs": [
    {
     "name": "stdout",
     "output_type": "stream",
     "text": [
      "10\n",
      "20\n",
      "30\n",
      "40\n",
      "50\n",
      "60\n",
      "70\n",
      "80\n",
      "90\n",
      "100\n"
     ]
    }
   ],
   "source": [
    "for i in range(10,110,10):\n",
    "    print(i)"
   ]
  },
  {
   "cell_type": "code",
   "execution_count": 5,
   "id": "e37e44b3",
   "metadata": {},
   "outputs": [
    {
     "name": "stdout",
     "output_type": "stream",
     "text": [
      "10\n",
      "9\n",
      "8\n",
      "7\n",
      "6\n",
      "5\n",
      "4\n",
      "3\n",
      "2\n",
      "1\n"
     ]
    }
   ],
   "source": [
    "# 10 9 8 7 --- 1\n",
    "for i in range(10,0,-1):\n",
    "    print(i)"
   ]
  },
  {
   "cell_type": "code",
   "execution_count": 10,
   "id": "819e5967",
   "metadata": {},
   "outputs": [
    {
     "name": "stdout",
     "output_type": "stream",
     "text": [
      "1\n",
      "-2\n",
      "3\n",
      "-4\n",
      "5\n",
      "-6\n",
      "7\n",
      "-8\n",
      "9\n",
      "-10\n"
     ]
    }
   ],
   "source": [
    "# 1 -2 3 -4 5 -6 7 -8 9 -10\n",
    "sign = 1\n",
    "for i in range(1,11):\n",
    "    print(i*sign)\n",
    "    sign *= -1"
   ]
  },
  {
   "cell_type": "code",
   "execution_count": null,
   "id": "6bd851d9",
   "metadata": {},
   "outputs": [],
   "source": [
    "# Faktorial => input 4! = 4 * 3 * 2 * 1 = 24\n",
    "\n",
    "number = int(input('Isikan Bilangan:'))\n",
    "result = 1\n",
    "for i in range(1,number + 1):\n",
    "    result = result * i\n",
    "    \n",
    "print(f\"Faktorial dari {number}! adalah {result}\")"
   ]
  },
  {
   "cell_type": "code",
   "execution_count": 1,
   "id": "5c10c19c",
   "metadata": {},
   "outputs": [
    {
     "name": "stdout",
     "output_type": "stream",
     "text": [
      "Isikan Bilangan:2\n",
      "Isikan Pangkat:3\n",
      "2 pangkat 3 = 8\n"
     ]
    }
   ],
   "source": [
    "# Pangkat => input 2^3 = 2 * 2 * 2 = 8\n",
    "\n",
    "number = int(input('Isikan Bilangan:'))\n",
    "pangkat = int(input('Isikan Pangkat:'))\n",
    "result = 1\n",
    "for i in range(1, pangkat+1):\n",
    "    result *= number\n",
    "    \n",
    "print(f\"{number} pangkat {pangkat} = {result}\")"
   ]
  },
  {
   "cell_type": "code",
   "execution_count": 9,
   "id": "ee17596d",
   "metadata": {},
   "outputs": [
    {
     "name": "stdout",
     "output_type": "stream",
     "text": [
      "Isikan Bilangan45\n",
      "45 adalah bukan bilangan prima\n"
     ]
    }
   ],
   "source": [
    "#Cek Bilangan Prima\n",
    "# Bil. Prima adalah bilangan yang hanya bisa dibagi dengan bil itu\n",
    "# sendiri dan 1\n",
    "\n",
    "#Bil. Prima punya 2 faktor\n",
    "#Jika number % i == 0 maka nilai faktor di increment(+1)\n",
    "#setelah selesai perulangan, jika faktor == 2 maka bilangan prima\n",
    "number = int(input('Isikan Bilangan'))\n",
    "faktor = 0\n",
    "for i in range(1, number+1):\n",
    "    sisa = number%i\n",
    "    if number%i == 0:\n",
    "        faktor = faktor + 1\n",
    "        \n",
    "if faktor == 2:\n",
    "    keterangan = 'bilangan prima'\n",
    "else:\n",
    "    keterangan = 'bukan bilangan prima'\n",
    "    \n",
    "print(f\"{number} adalah {keterangan}\")"
   ]
  },
  {
   "cell_type": "code",
   "execution_count": 15,
   "id": "4bde9c89",
   "metadata": {},
   "outputs": [
    {
     "name": "stdout",
     "output_type": "stream",
     "text": [
      "22\n",
      "U\n",
      "0 U\n",
      "1 n\n",
      "2 i\n",
      "3 v\n",
      "4 e\n",
      "5 r\n",
      "6 s\n",
      "7 i\n",
      "8 t\n",
      "9 a\n",
      "10 s\n",
      "11  \n",
      "12 N\n",
      "13 u\n",
      "14 s\n",
      "15 a\n",
      "16  \n",
      "17 p\n",
      "18 u\n",
      "19 t\n",
      "20 r\n",
      "21 a\n"
     ]
    }
   ],
   "source": [
    "kampus = \"Universitas Nusa putra\"\n",
    "print(len(kampus))\n",
    "print(kampus[0])\n",
    "for i,huruf in enumerate(kampus):\n",
    "    print(i,huruf)"
   ]
  },
  {
   "cell_type": "code",
   "execution_count": 20,
   "id": "03a00ad0",
   "metadata": {},
   "outputs": [
    {
     "name": "stdout",
     "output_type": "stream",
     "text": [
      "Isikan Nama Kampus:Universitas Nusa Putra\n",
      "jumlah huruf a:3\n",
      "jumlah huruf i:2\n",
      "jumlah huruf u:3\n",
      "jumlah huruf e:1\n",
      "jumlah huruf o:0\n",
      "jumlah huruf vokal:9\n"
     ]
    }
   ],
   "source": [
    "#Menghitung jumlah huruf vokal a i u e o\n",
    "\n",
    "kampus = \"Universitas Nusa putra\" #panjang 22\n",
    "kampus = input('Isikan Nama Kampus:')\n",
    "panjang = len(kampus)\n",
    "\n",
    "vokal_a = 0\n",
    "vokal_i = 0\n",
    "vokal_u = 0\n",
    "vokal_e = 0\n",
    "vokal_o = 0\n",
    "\n",
    "\n",
    "for i in range(0,panjang):\n",
    "    if kampus[i]=='a'  or kampus[i]==\"A\":\n",
    "        vokal_a +=1\n",
    "    elif kampus[i]=='i' or kampus[i]==\"I\":\n",
    "        vokal_i +=1\n",
    "    elif kampus[i]=='u'  or kampus[i]==\"U\":\n",
    "        vokal_u +=1\n",
    "    elif kampus[i]=='e'  or kampus[i]==\"E\":\n",
    "        vokal_e +=1\n",
    "    elif kampus[i]=='o'  or kampus[i]==\"O\":\n",
    "        vokal_o +=1\n",
    "        \n",
    "\n",
    "print(f\"jumlah huruf a:{vokal_a}\")\n",
    "print(f\"jumlah huruf i:{vokal_i}\")\n",
    "print(f\"jumlah huruf u:{vokal_u}\")\n",
    "print(f\"jumlah huruf e:{vokal_e}\")\n",
    "print(f\"jumlah huruf o:{vokal_o}\")\n",
    "print(f\"jumlah huruf vokal:{vokal_a + vokal_i + vokal_u + vokal_e + vokal_o}\")"
   ]
  },
  {
   "cell_type": "code",
   "execution_count": null,
   "id": "6fe52f3b",
   "metadata": {},
   "outputs": [
    {
     "name": "stdout",
     "output_type": "stream",
     "text": [
      "Isikan Kalimat:malam\n",
      "malam adalah Palindrome\n",
      "Apakah Mau Mengulang Program?: Y/Ty\n",
      "Isikan Kalimat:kakak\n",
      "kakak adalah Palindrome\n"
     ]
    }
   ],
   "source": [
    "ulang = \"Y\"\n",
    "while(ulang == \"Y\" or ulang == \"y\"):\n",
    "    kalimat = input(\"Isikan Kalimat:\")\n",
    "    panjang_kalimat = len(kalimat)\n",
    "\n",
    "#Mengecek kalimat palindrome atau bukan\n",
    "#Palindrome => kalimat yang dibaca dari kiri > kanan\n",
    "#kanan > kekiri itu sama\n",
    "#katak => palindrome\n",
    "#kasur rusak => palindrome\n",
    "    isPalindrome = True\n",
    "    for i in range(0,panjang_kalimat):\n",
    "        urut = kalimat[i]\n",
    "        kebalikan = kalimat[panjang_kalimat - i -1]\n",
    "        if urut != kebalikan:\n",
    "            isPalindrome = False\n",
    "            break\n",
    "        \n",
    "    if isPalindrome:\n",
    "        print(f\"{kalimat} adalah Palindrome\")\n",
    "    else:\n",
    "        print(f\"{kalimat} adalah Bukan Palindrome\")\n",
    "        \n",
    "    ulang = input('Apakah Mau Mengulang Program?: Y/T')"
   ]
  },
  {
   "cell_type": "code",
   "execution_count": 1,
   "id": "315f60b5",
   "metadata": {},
   "outputs": [
    {
     "name": "stdout",
     "output_type": "stream",
     "text": [
      "i: 1 dan j: 1\n",
      "i: 1 dan j: 2\n",
      "i: 1 dan j: 3\n",
      "i: 1 dan j: 4\n",
      "i: 2 dan j: 1\n",
      "i: 2 dan j: 2\n",
      "i: 2 dan j: 3\n",
      "i: 2 dan j: 4\n",
      "i: 3 dan j: 1\n",
      "i: 3 dan j: 2\n",
      "i: 3 dan j: 3\n",
      "i: 3 dan j: 4\n",
      "i: 4 dan j: 1\n",
      "i: 4 dan j: 2\n",
      "i: 4 dan j: 3\n",
      "i: 4 dan j: 4\n"
     ]
    }
   ],
   "source": [
    "#Nested For\n",
    "\n",
    "for i in range(1,5):\n",
    "    for j in range(1,5):\n",
    "        print(f\"i: {i} dan j: {j}\")"
   ]
  },
  {
   "cell_type": "code",
   "execution_count": null,
   "id": "e5f6252c",
   "metadata": {},
   "outputs": [],
   "source": []
  }
 ],
 "metadata": {
  "kernelspec": {
   "display_name": "Python 3 (ipykernel)",
   "language": "python",
   "name": "python3"
  },
  "language_info": {
   "codemirror_mode": {
    "name": "ipython",
    "version": 3
   },
   "file_extension": ".py",
   "mimetype": "text/x-python",
   "name": "python",
   "nbconvert_exporter": "python",
   "pygments_lexer": "ipython3",
   "version": "3.9.12"
  }
 },
 "nbformat": 4,
 "nbformat_minor": 5
}
