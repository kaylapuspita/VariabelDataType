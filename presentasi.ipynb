{
 "cells": [
  {
   "cell_type": "code",
   "execution_count": null,
   "id": "10d7ef97-ea71-460a-92b2-00a3ec25e4f7",
   "metadata": {},
   "outputs": [
    {
     "name": "stdout",
     "output_type": "stream",
     "text": [
      "Menu:\n",
      "1. Tampilkan Stok\n",
      "2. Tambahkan Stok\n",
      "3. Hapus Barang\n",
      "4. Cari Barang\n",
      "5. Keluar\n"
     ]
    },
    {
     "name": "stdin",
     "output_type": "stream",
     "text": [
      "Masukkan pilihan(1-5): 4\n",
      "Masukkan nama barang: minyak\n"
     ]
    },
    {
     "name": "stdout",
     "output_type": "stream",
     "text": [
      "minyak(400)\n",
      "Menu:\n",
      "1. Tampilkan Stok\n",
      "2. Tambahkan Stok\n",
      "3. Hapus Barang\n",
      "4. Cari Barang\n",
      "5. Keluar\n"
     ]
    }
   ],
   "source": [
    "#daftar barang dan jumlah stok awal\n",
    "barang_dan_stok = [\n",
    "    (\"mie instan\", 200),\n",
    "    (\"sabun\", 300),\n",
    "    (\"minyak\", 400),\n",
    "    (\"telur\", 500),\n",
    "    (\"beras\", 600),\n",
    "]\n",
    "\n",
    "#fungsi untuk menampilkan daftar barang dan stok\n",
    "def tampilkan_stok():\n",
    "    print(\"Daftar barang dan stok\")\n",
    "    for nama_barang, jumlah_stok in barang_dan_stok:\n",
    "        print(f\"{nama_barang}({jumlah_stok})\")\n",
    "\n",
    "#fungsi untuk menambahkan barang\n",
    "def tambahkan_stok():\n",
    "    nama_barang = input(\"Masukkan nama barang:\")\n",
    "    jumlah_stok = int(input(\"Masukkan jumlah stok:\"))\n",
    "    barang_dan_stok.append((nama_barang, jumlah_stok))\n",
    "    print(\"Barang berhasil ditambahkan\")\n",
    "\n",
    "#fungsi untuk menghapus barang\n",
    "def hapus_barang():\n",
    "    nama_barang = input(\"Masukkan nama barang:\")\n",
    "    jumlah_stok = int(input(\"Masukkan jumlah stok:\"))\n",
    "    barang_dan_stok.remove((nama_barang, jumlah_stok))\n",
    "    print(\"Barang berhasil dihapus\")\n",
    "\n",
    "#fungsi untuk mencari barang\n",
    "def cari_barang():\n",
    "    nama_barang = input(\"Masukkan nama barang:\").lower()\n",
    "    found = False\n",
    "    for barang, stok in barang_dan_stok:\n",
    "        if nama_barang == barang.lower():\n",
    "            print(f\"{barang}({stok})\")\n",
    "            found = True\n",
    "            break\n",
    "    if not found:\n",
    "         print(\"Barang tidak ada dalam daftar\")\n",
    "\n",
    "#menu utama\n",
    "while True:\n",
    "    print(\"Menu:\")\n",
    "    print(\"1. Tampilkan Stok\")\n",
    "    print(\"2. Tambahkan Stok\")\n",
    "    print(\"3. Hapus Barang\")\n",
    "    print(\"4. Cari Barang\")\n",
    "    print(\"5. Keluar\")\n",
    "    pilihan = input(\"Masukkan pilihan(1-5):\")\n",
    "    if pilihan == \"1\":\n",
    "        tampilkan_stok()\n",
    "    elif pilihan == \"2\":\n",
    "        tambahkan_stok()\n",
    "    elif pilihan == \"3\":\n",
    "        hapus_barang()\n",
    "    elif pilihan == \"4\":\n",
    "        cari_barang()\n",
    "    elif pilihan == \"5\":\n",
    "        break\n",
    "    else:\n",
    "        print(\"pilihan tidak ada dalam daftar.\")\n",
    "            "
   ]
  },
  {
   "cell_type": "code",
   "execution_count": null,
   "id": "e8df1873-1ece-47df-86f0-e242563bf2fe",
   "metadata": {},
   "outputs": [],
   "source": []
  }
 ],
 "metadata": {
  "kernelspec": {
   "display_name": "Python 3 (ipykernel)",
   "language": "python",
   "name": "python3"
  },
  "language_info": {
   "codemirror_mode": {
    "name": "ipython",
    "version": 3
   },
   "file_extension": ".py",
   "mimetype": "text/x-python",
   "name": "python",
   "nbconvert_exporter": "python",
   "pygments_lexer": "ipython3",
   "version": "3.11.7"
  }
 },
 "nbformat": 4,
 "nbformat_minor": 5
}
