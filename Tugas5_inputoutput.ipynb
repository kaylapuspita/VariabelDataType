{
 "cells": [
  {
   "cell_type": "code",
   "execution_count": 5,
   "id": "d49f87f3-e5b6-48cc-87ca-1e297cd938d4",
   "metadata": {},
   "outputs": [
    {
     "name": "stdin",
     "output_type": "stream",
     "text": [
      "Isikan Nama Anda: Kayla Puspita\n"
     ]
    },
    {
     "name": "stdout",
     "output_type": "stream",
     "text": [
      "Nama Awal: Kayla\n",
      "Nama Akhir: Puspita\n"
     ]
    },
    {
     "name": "stdin",
     "output_type": "stream",
     "text": [
      "Isikan Tanggal Lahir: 31/03/2005\n"
     ]
    },
    {
     "name": "stdout",
     "output_type": "stream",
     "text": [
      "Tanggal Lahir: 31\n",
      "Bulan Lahir: 03 Maret\n",
      "Tahun Lahir: 2005\n",
      "Nama Inisial: KP\n"
     ]
    }
   ],
   "source": [
    "# Isikan Nama Anda : Kayla Puspita\n",
    "nama = input('Isikan Nama Anda:')\n",
    "list_nama = nama.split()\n",
    "#Nama Awal : Kayla\n",
    "print(\"Nama Awal:\", list_nama[0])\n",
    "#Nama Akhir : Puspita\n",
    "print(\"Nama Akhir:\", list_nama[1])\n",
    "\n",
    "#Isikan Tanggal Lahir : 31/03/2005\n",
    "#Tanggal Lahir : 31\n",
    "\n",
    "\n",
    "#Bulan Lahir : 03 Maret\n",
    "list_tanggal = tanggal.split('/')\n",
    "if list_tanggal[1]==\"01\":\n",
    "    keterangan = \"Januari\"\n",
    "elif list_tanggal[1]==\"02\":\n",
    "    keterangan = \"Februari\"\n",
    "elif list_tanggal[1]==\"03\":\n",
    "    keterangan = \"Maret\"\n",
    "elif list_tanggal[1]==\"04\":\n",
    "    keterangan = \"April\"\n",
    "elif list_tanggal[1]==\"05\":\n",
    "    keterangan = \"Mei\"\n",
    "elif list_tanggal[1]==\"06\":\n",
    "    keterangan = \"Juni\"\n",
    "elif list_tanggal[1]==\"07\":\n",
    "    keterangan = \"Juli\"\n",
    "elif list_tanggal[1]==\"08\":\n",
    "    keterangan = \"Agustus\"\n",
    "elif list_tanggal[1]==\"09\":\n",
    "    keterangan = \"September\"\n",
    "elif list_tanggal[1]==\"10\":\n",
    "    keterangan = \"Oktober\"\n",
    "elif list_tanggal[1]==\"11\":\n",
    "    keterangan = \"November\"\n",
    "elif list_tanggal[1]==\"12\":\n",
    "    keterangan = \"Desember\"\n",
    "tanggal = input('Isikan Tanggal Lahir:')\n",
    "print(\"Tanggal Lahir:\", list_tanggal[0])\n",
    "print(\"Bulan Lahir:\", list_tanggal[1], keterangan)\n",
    "\n",
    "#Tahun Lahir : 2005\n",
    "print(\"Tahun Lahir:\", list_tanggal[2])\n",
    "\n",
    "#Nama Inisial : KP\n",
    "inisial = list_nama[0][0] + list_nama[1][0]\n",
    "print(\"Nama Inisial:\", inisial)\n"
   ]
  },
  {
   "cell_type": "code",
   "execution_count": 70,
   "id": "8e6a7c00-e976-4d8e-a750-1baa483d9fc1",
   "metadata": {},
   "outputs": [
    {
     "name": "stdout",
     "output_type": "stream",
     "text": [
      "PUTRANUSA\n",
      "NIVERSITAS NSA PTRA SKABMI\n",
      "SUKABUMIPUTRANUSAUNIVERSITAS\n",
      "UNPS\n",
      "TAS SA PUBUMI\n"
     ]
    }
   ],
   "source": [
    "#PUTRA NUSA\n",
    "kampus = \"UNIVERSITAS NUSA PUTRA SUKABUMI\"\n",
    "nama_kampus = kampus.split()\n",
    "print(nama_kampus [2]+ \"\" + nama_kampus [1])\n",
    "\n",
    "#NIVERSITAS NSA PTRA SKABMI\n",
    "nama_kampus = \"UNIVERSITAS NUSA PUTRA SUKABUMI\"\n",
    "nama_kampus = nama_kampus.replace(\"U\", \"\")\n",
    "print(nama_kampus)\n",
    "\n",
    "#SUKABUMI PUTRA NUSA UNIVERSITAS\n",
    "kampus = \"UNIVERSITAS NUSA PUTRA SUKABUMI\"\n",
    "nama_kampus = kampus.split()\n",
    "print(nama_kampus [3]+ \"\" + nama_kampus [2]+ \"\" + nama_kampus[1]+ \"\" + nama_kampus[0])\n",
    "\n",
    "#UNPS\n",
    "kampus = \"UNIVERSITAS NUSA PUTRA SUKABUMI\"\n",
    "nama_kampus = kampus.split()\n",
    "kampus = nama_kampus[0][0] + nama_kampus[1][0] + nama_kampus[2][0] + nama_kampus[3][0]\n",
    "print(kampus)\n",
    "\n",
    "#TAS SAPU BUMI\n",
    "nama_kampus = \"UNIVERSITAS NUSA PUTRA SUKABUMI\"\n",
    "print(nama_kampus [8:12] + nama_kampus[14:19] + \"\"+ nama_kampus [27:])"
   ]
  },
  {
   "cell_type": "code",
   "execution_count": null,
   "id": "39930885-8d8d-4cc0-abc2-dd0d0894495a",
   "metadata": {},
   "outputs": [],
   "source": []
  }
 ],
 "metadata": {
  "kernelspec": {
   "display_name": "Python 3 (ipykernel)",
   "language": "python",
   "name": "python3"
  },
  "language_info": {
   "codemirror_mode": {
    "name": "ipython",
    "version": 3
   },
   "file_extension": ".py",
   "mimetype": "text/x-python",
   "name": "python",
   "nbconvert_exporter": "python",
   "pygments_lexer": "ipython3",
   "version": "3.11.7"
  }
 },
 "nbformat": 4,
 "nbformat_minor": 5
}
